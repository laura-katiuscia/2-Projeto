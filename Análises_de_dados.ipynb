{
  "nbformat": 4,
  "nbformat_minor": 0,
  "metadata": {
    "colab": {
      "name": "Análises de dados",
      "private_outputs": true,
      "provenance": [],
      "authorship_tag": "ABX9TyNCM/OEj0Kjwnu69gu4wqEl",
      "include_colab_link": true
    },
    "kernelspec": {
      "name": "python3",
      "display_name": "Python 3"
    },
    "language_info": {
      "name": "python"
    }
  },
  "cells": [
    {
      "cell_type": "markdown",
      "metadata": {
        "id": "view-in-github",
        "colab_type": "text"
      },
      "source": [
        "<a href=\"https://colab.research.google.com/github/laura-katiuscia/2-Projeto/blob/master/An%C3%A1lises_de_dados.ipynb\" target=\"_parent\"><img src=\"https://colab.research.google.com/assets/colab-badge.svg\" alt=\"Open In Colab\"/></a>"
      ]
    },
    {
      "cell_type": "code",
      "metadata": {
        "id": "NQ5NIpVOqnny"
      },
      "source": [
        "# Para garantir que executará sql precisa instalar ipython-sql\n",
        "!pip install ipython-sql"
      ],
      "execution_count": null,
      "outputs": []
    },
    {
      "cell_type": "code",
      "metadata": {
        "id": "um8EoIYVASJA"
      },
      "source": [
        "# Carrefa módulo sql\n",
        "% load_ext sql"
      ],
      "execution_count": null,
      "outputs": []
    },
    {
      "cell_type": "code",
      "metadata": {
        "id": "ZwwGny9mAU0O"
      },
      "source": [
        "# Coloca uma string de conexão\n",
        "% sql sqlite: //\n"
      ],
      "execution_count": null,
      "outputs": []
    },
    {
      "cell_type": "code",
      "metadata": {
        "id": "3cWOEiFjExVf"
      },
      "source": [
        "import sqlalchemy"
      ],
      "execution_count": null,
      "outputs": []
    },
    {
      "cell_type": "code",
      "metadata": {
        "id": "_cUr8TaqEGNn"
      },
      "source": [
        ""
      ],
      "execution_count": null,
      "outputs": []
    },
    {
      "cell_type": "code",
      "metadata": {
        "id": "O9rNY4Bx7wj5"
      },
      "source": [
        "#sqlite usa somente uma parte do arquivo invés usar ele todo\n",
        "import os\n",
        "os.remove('escola.db') if os.path.exists('escola.db') else None"
      ],
      "execution_count": null,
      "outputs": []
    },
    {
      "cell_type": "code",
      "metadata": {
        "id": "f1Tl5TVssLIA"
      },
      "source": [
        "#import banco de dados\n",
        "import sqlite3"
      ],
      "execution_count": null,
      "outputs": []
    },
    {
      "cell_type": "code",
      "metadata": {
        "id": "oag1fCWnspWQ"
      },
      "source": [
        "#cria uma conecção banco de dados sqlite, senão existir ele cria\n",
        "con = sqlite3.connect('escola.db')"
      ],
      "execution_count": null,
      "outputs": []
    },
    {
      "cell_type": "code",
      "metadata": {
        "id": "hBe5ttsNtYRN"
      },
      "source": [
        "type (con)"
      ],
      "execution_count": null,
      "outputs": []
    },
    {
      "cell_type": "code",
      "metadata": {
        "id": "zg-caJNUtq5g"
      },
      "source": [
        "#criando um cursor que permite percorrer todo registro do bd\n",
        "cur = con.cursor()"
      ],
      "execution_count": null,
      "outputs": []
    },
    {
      "cell_type": "code",
      "metadata": {
        "id": "SY3NkoEXt7RP"
      },
      "source": [
        "#cria uma instrução usando comando DDL\n",
        "sql_create = 'create table cursos '\\\n",
        "'(id integer primary key, '\\\n",
        "'titulo varchar(100), '\\\n",
        "'categoria varchar(140))'"
      ],
      "execution_count": null,
      "outputs": []
    },
    {
      "cell_type": "code",
      "metadata": {
        "id": "TFjIPgQCuntZ"
      },
      "source": [
        "#Executando a instrução sql no cursor\n",
        "cur.execute(sql_create)\n"
      ],
      "execution_count": null,
      "outputs": []
    },
    {
      "cell_type": "code",
      "metadata": {
        "id": "hUTDX_-svCmB"
      },
      "source": [
        "sql_insert = 'insert into cursos values (?, ?, ?)'\n"
      ],
      "execution_count": null,
      "outputs": []
    },
    {
      "cell_type": "code",
      "metadata": {
        "id": "Ne8-BzBiyp0I"
      },
      "source": [
        "# Inserindo valores na tabela\n",
        "recset = [(100,'ciencia', 'não vou'),\n",
        "(101, 'aprender','gente'),\n",
        "(102, 'sem','noção'),\n",
        "(103, 'construir','frase')]\n",
        "\n"
      ],
      "execution_count": null,
      "outputs": []
    },
    {
      "cell_type": "code",
      "metadata": {
        "id": "Fx2mFa_nJGWI"
      },
      "source": [
        "cur.execute(\"SELECT * FROM cursos\")\n",
        "print(cur.fetchall())"
      ],
      "execution_count": null,
      "outputs": []
    },
    {
      "cell_type": "code",
      "metadata": {
        "id": "DvhfBgIwyqd3"
      },
      "source": [
        "# Inserindo os registros\n",
        "for rec in recset:\n",
        " cur.execute(sql_insert, rec)"
      ],
      "execution_count": null,
      "outputs": []
    },
    {
      "cell_type": "code",
      "metadata": {
        "id": "BnK7QCQK0zA9"
      },
      "source": [
        ""
      ],
      "execution_count": null,
      "outputs": []
    },
    {
      "cell_type": "code",
      "source": [
        ""
      ],
      "metadata": {
        "id": "e3BAL5Y04eth"
      },
      "execution_count": null,
      "outputs": []
    },
    {
      "cell_type": "code",
      "source": [
        ""
      ],
      "metadata": {
        "id": "Q-ObDQcu41s3"
      },
      "execution_count": null,
      "outputs": []
    },
    {
      "cell_type": "markdown",
      "source": [
        "# Nova seção"
      ],
      "metadata": {
        "id": "jR4WPuSZ6ocL"
      }
    }
  ]
}